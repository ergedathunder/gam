{
 "cells": [
  {
   "cell_type": "code",
   "execution_count": 6,
   "metadata": {},
   "outputs": [
    {
     "ename": "FileNotFoundError",
     "evalue": "[Errno 2] No such file or directory: 'data0924'",
     "output_type": "error",
     "traceback": [
      "\u001b[0;31m---------------------------------------------------------------------------\u001b[0m",
      "\u001b[0;31mFileNotFoundError\u001b[0m                         Traceback (most recent call last)",
      "\u001b[1;32m/home/xeg/last/gam/pagerank/run.ipynb Cell 1\u001b[0m line \u001b[0;36m9\n\u001b[1;32m      <a href='vscode-notebook-cell://ssh-remote%2B10.77.110.155/home/xeg/last/gam/pagerank/run.ipynb#X14sdnNjb2RlLXJlbW90ZQ%3D%3D?line=5'>6</a>\u001b[0m df \u001b[39m=\u001b[39m pd\u001b[39m.\u001b[39mDataFrame(columns\u001b[39m=\u001b[39m[\u001b[39m'\u001b[39m\u001b[39mno_array\u001b[39m\u001b[39m'\u001b[39m, \u001b[39m'\u001b[39m\u001b[39mno_node\u001b[39m\u001b[39m'\u001b[39m, \u001b[39m'\u001b[39m\u001b[39mno_worker\u001b[39m\u001b[39m'\u001b[39m, \u001b[39m'\u001b[39m\u001b[39mno_run\u001b[39m\u001b[39m'\u001b[39m, \u001b[39m'\u001b[39m\u001b[39mread_hit\u001b[39m\u001b[39m'\u001b[39m,\n\u001b[1;32m      <a href='vscode-notebook-cell://ssh-remote%2B10.77.110.155/home/xeg/last/gam/pagerank/run.ipynb#X14sdnNjb2RlLXJlbW90ZQ%3D%3D?line=6'>7</a>\u001b[0m                   \u001b[39m'\u001b[39m\u001b[39mread_miss\u001b[39m\u001b[39m'\u001b[39m, \u001b[39m'\u001b[39m\u001b[39mwrite_hit\u001b[39m\u001b[39m'\u001b[39m, \u001b[39m'\u001b[39m\u001b[39mwrite_miss\u001b[39m\u001b[39m'\u001b[39m, \u001b[39m'\u001b[39m\u001b[39mmsi_runtime\u001b[39m\u001b[39m'\u001b[39m, \u001b[39m'\u001b[39m\u001b[39mrc_runtime\u001b[39m\u001b[39m'\u001b[39m])\n\u001b[1;32m      <a href='vscode-notebook-cell://ssh-remote%2B10.77.110.155/home/xeg/last/gam/pagerank/run.ipynb#X14sdnNjb2RlLXJlbW90ZQ%3D%3D?line=7'>8</a>\u001b[0m \u001b[39m# 遍历data0910下所有子文件夹\u001b[39;00m\n\u001b[0;32m----> <a href='vscode-notebook-cell://ssh-remote%2B10.77.110.155/home/xeg/last/gam/pagerank/run.ipynb#X14sdnNjb2RlLXJlbW90ZQ%3D%3D?line=8'>9</a>\u001b[0m \u001b[39mfor\u001b[39;00m \u001b[39mdir\u001b[39m \u001b[39min\u001b[39;00m os\u001b[39m.\u001b[39;49mlistdir(data_path):\n\u001b[1;32m     <a href='vscode-notebook-cell://ssh-remote%2B10.77.110.155/home/xeg/last/gam/pagerank/run.ipynb#X14sdnNjb2RlLXJlbW90ZQ%3D%3D?line=9'>10</a>\u001b[0m     \u001b[39mprint\u001b[39m (\u001b[39mdir\u001b[39m)\n",
      "\u001b[0;31mFileNotFoundError\u001b[0m: [Errno 2] No such file or directory: 'data0924'"
     ]
    }
   ],
   "source": [
    "import os\n",
    "import re\n",
    "import pandas as pd\n",
    "\n",
    "data_path = 'data0924'\n",
    "df = pd.DataFrame(columns=['no_array', 'no_node', 'no_worker', 'no_run', 'read_hit',\n",
    "                  'read_miss', 'write_hit', 'write_miss', 'msi_runtime', 'rc_runtime'])\n",
    "# 遍历data0910下所有子文件夹\n",
    "for dir in os.listdir(data_path):\n",
    "    print (dir)"
   ]
  },
  {
   "cell_type": "code",
   "execution_count": null,
   "metadata": {},
   "outputs": [],
   "source": [
    "import os\n",
    "import re\n",
    "import pandas as pd\n",
    "\n",
    "data_path = 'data0924'\n",
    "df = pd.DataFrame(columns=['no_array', 'no_node', 'no_worker', 'no_run', 'read_hit',\n",
    "                  'read_miss', 'write_hit', 'write_miss', 'msi_runtime', 'rc_runtime'])\n",
    "# 遍历data0910下所有子文件夹\n",
    "for dir in os.listdir(data_path):\n",
    "    # 解析文件夹名称\n",
    "    no_array, no_node, no_worker, no_run = map(int, re.findall(r'\\d+', dir))\n",
    "\n",
    "    # 进入子文件夹\n",
    "    dir_path = os.path.join(data_path, dir)\n",
    "    files = os.listdir(dir_path)\n",
    "\n",
    "    # 读取每个文件中的指标\n",
    "    for file in files:\n",
    "        with open(os.path.join(dir_path, file)) as f:\n",
    "            content = f.read()\n",
    "\n",
    "            if no_run == 1:\n",
    "\n",
    "                read_hits = re.findall(r'read_hit: (\\d+)', content)\n",
    "                read_hit = sum(int(x) for x in read_hits)\n",
    "\n",
    "                read_misses = re.findall(r'read_miss: (\\d+)', content)\n",
    "                read_miss = sum(int(x) for x in read_misses)\n",
    "\n",
    "                write_hits = re.findall(r'write_hit: (\\d+)', content)\n",
    "                write_hit = sum(int(x) for x in write_hits)\n",
    "\n",
    "                write_misses = re.findall(r'write_miss: (\\d+)', content)\n",
    "                write_miss = sum(int(x) for x in write_misses)\n",
    "                rc_runtime = -1\n",
    "\n",
    "                msi_runtime = re.search(r'running time : (\\d+)', content)\n",
    "\n",
    "                if msi_runtime:\n",
    "                    msi_runtime = int(msi_runtime.group(1))\n",
    "\n",
    "            if no_run == 2:\n",
    "                \n",
    "                read_hits = re.findall(r'read_hit: (\\d+)', content)\n",
    "                read_hit = sum(int(x) for x in read_hits)\n",
    "\n",
    "                read_misses = re.findall(r'read_miss: (\\d+)', content)\n",
    "                read_miss = sum(int(x) for x in read_misses)\n",
    "\n",
    "                write_hits = re.findall(r'write_hit: (\\d+)', content)\n",
    "                write_hit = sum(int(x) for x in write_hits)\n",
    "\n",
    "                write_misses = re.findall(r'write_miss: (\\d+)', content)\n",
    "                write_miss = sum(int(x) for x in write_misses)\n",
    "\n",
    "                msi_runtime = -1\n",
    "\n",
    "                rc_runtime = re.search(r'running time : (\\d+)', content)\n",
    "\n",
    "                if rc_runtime:\n",
    "                    rc_runtime = int(rc_runtime.group(1))\n",
    "\n",
    "            # 构造每行数据\n",
    "            data = {\n",
    "                'no_array': no_array,\n",
    "                'no_node': no_node,\n",
    "                'no_worker': no_worker,\n",
    "                'no_run': no_run,\n",
    "                'read_hit': read_hit,\n",
    "                'read_miss': read_miss,\n",
    "                'write_hit': write_hit,\n",
    "                'write_miss': write_miss,\n",
    "                'msi_runtime': msi_runtime,\n",
    "                'rc_runtime': rc_runtime\n",
    "            }\n",
    "            # 添加到DataFrame\n",
    "            # df = df.append(data, ignore_index=True)\n",
    "            df2 = pd.DataFrame(data, index=[0])\n",
    "            df = pd.concat([df, df2], ignore_index=True)\n",
    "            # FutureWarning: The frame.append method is deprecated and will be removed from pandas in a future version. Use pandas.concat instead.\n",
    "\n",
    "# excel\n",
    "df.to_excel('data0924_2.xlsx', index=False)"
   ]
  },
  {
   "cell_type": "code",
   "execution_count": null,
   "metadata": {},
   "outputs": [],
   "source": [
    "\n",
    "# 对no_array,no_node,no_worker,no_run相同的数据行进行求和，并且只保留一行数据\n",
    "df = pd.read_excel('data0924_2.xlsx')\n",
    "df= df.groupby(['no_array', 'no_node', 'no_worker', 'no_run']).sum().reset_index()\n",
    "df.to_excel('data0924_3.xlsx', index=False)"
   ]
  },
  {
   "cell_type": "code",
   "execution_count": null,
   "metadata": {},
   "outputs": [],
   "source": [
    "# 计算read_miss/(read_hit+read_miss)\n",
    "df = pd.read_excel('data0924_3.xlsx')\n",
    "df['read_miss_rate'] = df['read_miss'] / (df['read_hit'] + df['read_miss'])\n",
    "# 计算write_miss/(write_hit+write_miss)\n",
    "df['write_miss_rate'] = df['write_miss'] / (df['write_hit'] + df['write_miss'])\n",
    "\n",
    "# excel\n",
    "df.to_excel('data0924_4.xlsx', index=False)"
   ]
  },
  {
   "cell_type": "code",
   "execution_count": null,
   "metadata": {},
   "outputs": [],
   "source": [
    "# 对相同no_array,no_node的两行数据，no_run==1的msi_runtime除以no_run==2的rc_runtime，命名为speed_ratio,放在no_run==2的行中\n",
    "df=pd.read_excel('data0924_4.xlsx')\n",
    "# 遍历每一行，当no_run==2时，计算speed_ratio\n",
    "for i in range(len(df)):\n",
    "    if df.loc[i,'no_run']==2:\n",
    "        df.loc[i,'speed_ratio']=df.loc[i-1,'msi_runtime']/df.loc[i,'rc_runtime']\n",
    "# excel\n",
    "df.to_excel('data0924_5.xlsx', index=False)"
   ]
  },
  {
   "cell_type": "code",
   "execution_count": null,
   "metadata": {},
   "outputs": [],
   "source": [
    "# x: no_workr\n",
    "# y：speed_ratio\n",
    "# 绘图\n",
    "import matplotlib.pyplot as plt\n",
    "import seaborn as sns\n",
    "df = pd.read_excel('data0924_5.xlsx')\n",
    "sns.set(style=\"darkgrid\")\n",
    "sns.lineplot(x=\"no_worker\", y=\"speed_ratio\", data=df)\n",
    "# 标题为：no_array=1024,no_node=4\n",
    "plt.ylim(0, 5)\n",
    "plt.title('no_edge=1000000,no_node=4')\n",
    "plt.show()\n",
    "# save\n",
    "plt.savefig('data0924_5.png')\n"
   ]
  },
  {
   "cell_type": "code",
   "execution_count": null,
   "metadata": {},
   "outputs": [],
   "source": [
    "plt.clf()\n",
    "sns.set(style=\"darkgrid\")\n",
    "sns.lineplot(x=\"no_worker\", y=\"msi_runtime\", data=df[df['msi_runtime']>0], color='blue', label='msi_runtime')\n",
    "sns.lineplot(x=\"no_worker\", y=\"rc_runtime\", data=df[df['rc_runtime']>0], color='red', label='bi_runtime')\n",
    "# 标题为：no_array=1024,no_node=4\n",
    "plt.title('no_edge=1000000,no_node=4')\n",
    "plt.show()"
   ]
  }
 ],
 "metadata": {
  "kernelspec": {
   "display_name": "Python 3",
   "language": "python",
   "name": "python3"
  },
  "language_info": {
   "codemirror_mode": {
    "name": "ipython",
    "version": 3
   },
   "file_extension": ".py",
   "mimetype": "text/x-python",
   "name": "python",
   "nbconvert_exporter": "python",
   "pygments_lexer": "ipython3",
   "version": "3.8.10"
  },
  "orig_nbformat": 4
 },
 "nbformat": 4,
 "nbformat_minor": 2
}
